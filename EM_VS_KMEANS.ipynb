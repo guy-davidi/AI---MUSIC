{
  "nbformat": 4,
  "nbformat_minor": 0,
  "metadata": {
    "colab": {
      "name": "HW7_205493448.ipynb",
      "provenance": [],
      "collapsed_sections": [],
      "authorship_tag": "ABX9TyMwcjU/2DpvxVagC5o7cS+h",
      "include_colab_link": true
    },
    "kernelspec": {
      "name": "python3",
      "display_name": "Python 3"
    },
    "language_info": {
      "name": "python"
    }
  },
  "cells": [
    {
      "cell_type": "markdown",
      "metadata": {
        "id": "view-in-github",
        "colab_type": "text"
      },
      "source": [
        "<a href=\"https://colab.research.google.com/github/guy-davidi/Deep_Learning/blob/main/EM_VS_KMEANS.ipynb\" target=\"_parent\"><img src=\"https://colab.research.google.com/assets/colab-badge.svg\" alt=\"Open In Colab\"/></a>"
      ]
    },
    {
      "cell_type": "markdown",
      "source": [
        "# **EM Vs. K-MEANS**"
      ],
      "metadata": {
        "id": "9xXPeOAcrAya"
      }
    },
    {
      "cell_type": "markdown",
      "source": [
        "# **EM Algorithm**"
      ],
      "metadata": {
        "id": "pEtO7SsJsGzl"
      }
    },
    {
      "cell_type": "code",
      "source": [
        "# Guy Davidi 205493448"
      ],
      "metadata": {
        "id": "3NtNh0Uky1BN"
      },
      "execution_count": 1,
      "outputs": []
    },
    {
      "cell_type": "markdown",
      "source": [
        "**Imports**"
      ],
      "metadata": {
        "id": "TjdSxDDgzXqc"
      }
    },
    {
      "cell_type": "code",
      "source": [
        "import numpy as np\n",
        "import matplotlib.pyplot as plt\n",
        "from scipy.stats import multivariate_normal"
      ],
      "metadata": {
        "id": "_2Bw5-9kzcQc"
      },
      "execution_count": 2,
      "outputs": []
    },
    {
      "cell_type": "markdown",
      "source": [
        "**Constants**"
      ],
      "metadata": {
        "id": "Aju4EndL9JhN"
      }
    },
    {
      "cell_type": "code",
      "source": [
        "N = 2000"
      ],
      "metadata": {
        "id": "iTPuqm3j9eAo"
      },
      "execution_count": 3,
      "outputs": []
    },
    {
      "cell_type": "markdown",
      "source": [
        "**Model parameters**"
      ],
      "metadata": {
        "id": "GlN1sKw_9o9M"
      }
    },
    {
      "cell_type": "code",
      "source": [
        "model_means = [\n",
        "    [1, 1], # mean of cluster 1\n",
        "    [3, 3], # mean of cluster 2\n",
        "]\n",
        "model_covariances = [\n",
        "    [[1, 0.], [0, 2]], # covariance of cluster 1\n",
        "    [[2, 0], [0, 0.5]], # covariance of cluster 2\n",
        "]\n",
        "model_weights = [0.5, 0.5]  # weights of each cluster"
      ],
      "metadata": {
        "id": "8peMYT_W9s4L"
      },
      "execution_count": 4,
      "outputs": []
    },
    {
      "cell_type": "code",
      "execution_count": 5,
      "metadata": {
        "id": "cQErl7zXmSNx"
      },
      "outputs": [],
      "source": [
        "def gen_data( means, covariances, weights):\n",
        "    num_clusters = len(weights)\n",
        "    data = []\n",
        "    for i in range(N):\n",
        "        # Use np.random.choice and weights to pick a cluster \n",
        "        k = np.random.choice(len(weights), 1, p=weights)[0]\n",
        "\n",
        "        # Use np.random.multivariate_normal to create data from this cluster\n",
        "        x = np.random.multivariate_normal(means[k], covariances[k])\n",
        "\n",
        "        data.append(x)\n",
        "    return data"
      ]
    },
    {
      "cell_type": "markdown",
      "source": [
        "**Generate data**"
      ],
      "metadata": {
        "id": "6r9e4AwOgjQq"
      }
    },
    {
      "cell_type": "code",
      "source": [
        "np.random.seed(4)\n",
        "dataset = gen_data(model_means, model_covariances, model_weights)"
      ],
      "metadata": {
        "id": "KDvhkOkp2GjZ"
      },
      "execution_count": 6,
      "outputs": []
    },
    {
      "cell_type": "markdown",
      "source": [
        "**Expectation–maximization algorithm**"
      ],
      "metadata": {
        "id": "0Z7S26oY9GKc"
      }
    },
    {
      "cell_type": "code",
      "source": [
        "def EM(data, init_means, init_covariances, init_weights):\n",
        "    \n",
        "    # Make copies of initial parameters, which we will update during each iteration\n",
        "    means = init_means[:]\n",
        "    covariances = init_covariances[:]\n",
        "    weights = init_weights[:]\n",
        "\n",
        "    num_dim = len(data[0])\n",
        "    num_clusters = 2\n",
        "    \n",
        "\n",
        "    r = np.zeros((N, num_clusters))\n",
        "\n",
        "    for i in range(101):\n",
        "        # E-step\n",
        "        for j in range(N):\n",
        "            for k in range(num_clusters):\n",
        "                r[j, k] = weights[k] * multivariate_normal.pdf(data[j], mean = means[k], cov = covariances[k])         \n",
        "        row_sums = r.sum(axis=1)[:, np.newaxis]\n",
        "        # normalize\n",
        "        r = r / row_sums \n",
        "\n",
        "        # M-step\n",
        "        counts = np.sum(r, axis=0)\n",
        "        for k in range(num_clusters):\n",
        "            weights[k] = counts[k] * 1.0 / N\n",
        "            w_sum = 0\n",
        "            \n",
        "            for j in range(N):\n",
        "                w_sum += r[j, k] * data[j]\n",
        "            \n",
        "            means[k] = w_sum * 1.0 / counts[k]\n",
        "            w_sum = np.zeros((num_dim, num_dim))\n",
        "            \n",
        "            for j in range(N):\n",
        "                w_sum += r[j, k] * np.outer(data[j] - means[k], data[j] - means[k])\n",
        "            # dot with the identedy change the ondiagonal\n",
        "            covariances[k] = (w_sum * 1.0 / counts[k])*np.eye(2)\n",
        "\n",
        "        if  i == 2 or i == 10 or i == 100:\n",
        "            print(f\"----------- The iteration is: {i} -----------\")\n",
        "            print(\"weights: \",np.round(weights,2))\n",
        "            print(\"means: \",np.round(means,2))\n",
        "            print(\"covariances: \",np.round(covariances,2))"
      ],
      "metadata": {
        "id": "TgdqdzsR2i26"
      },
      "execution_count": 7,
      "outputs": []
    },
    {
      "cell_type": "markdown",
      "source": [
        "**Initialization of parameters**"
      ],
      "metadata": {
        "id": "Lep3tDZshOTM"
      }
    },
    {
      "cell_type": "code",
      "source": [
        "data_means = [np.squeeze(np.random.rand(1,2)*5), np.squeeze(np.random.rand(1,2)*5)]\n",
        "\n",
        "data_covs = [\n",
        "    [[np.random.uniform(0, 1)*5, 0.],\n",
        "     [0, np.random.uniform(0, 1)*5]], # covariance of cluster 1, when X ~ uniform(0 , 5)\n",
        "\n",
        "    [[np.random.uniform(0, 1)*5, 0],\n",
        "     [0, np.random.uniform(0, 1)*5]], # covariance of cluster 2, when X ~ uniform(0 , 5)\n",
        "]\n",
        "randnum = np.random.uniform(0, 1)     # weights are X ~ uniform(0 , 1)\n",
        "data_weights = [randnum, 1-randnum]"
      ],
      "metadata": {
        "id": "EmKtlvcmUKP8"
      },
      "execution_count": 8,
      "outputs": []
    },
    {
      "cell_type": "markdown",
      "source": [
        "**Seed**"
      ],
      "metadata": {
        "id": "DTRQy6vElDbm"
      }
    },
    {
      "cell_type": "code",
      "source": [
        "np.random.seed(4)"
      ],
      "metadata": {
        "id": "ol45QVGkk7ZC"
      },
      "execution_count": 9,
      "outputs": []
    },
    {
      "cell_type": "code",
      "source": [
        "# Parameters after running EM\n",
        "EM(dataset, data_means, data_covs, data_weights)"
      ],
      "metadata": {
        "colab": {
          "base_uri": "https://localhost:8080/"
        },
        "id": "U7zGvM-K3rJQ",
        "outputId": "55a4ae66-0912-4e86-9658-c2f2c2e8df27"
      },
      "execution_count": 10,
      "outputs": [
        {
          "output_type": "stream",
          "name": "stdout",
          "text": [
            "----------- The iteration is: 2 -----------\n",
            "weights:  [0.47 0.53]\n",
            "means:  [[1.61 1.74]\n",
            " [2.34 2.29]]\n",
            "covariances:  [[[1.44 0.  ]\n",
            "  [0.   2.65]]\n",
            "\n",
            " [[3.05 0.  ]\n",
            "  [0.   1.62]]]\n",
            "----------- The iteration is: 10 -----------\n",
            "weights:  [0.47 0.53]\n",
            "means:  [[0.97 0.95]\n",
            " [2.9  2.98]]\n",
            "covariances:  [[[ 0.96 -0.  ]\n",
            "  [-0.    1.88]]\n",
            "\n",
            " [[ 1.96  0.  ]\n",
            "  [ 0.    0.52]]]\n",
            "----------- The iteration is: 100 -----------\n",
            "weights:  [0.48 0.52]\n",
            "means:  [[0.97 1.  ]\n",
            " [2.94 2.98]]\n",
            "covariances:  [[[ 0.96 -0.  ]\n",
            "  [-0.    1.93]]\n",
            "\n",
            " [[ 1.89  0.  ]\n",
            "  [ 0.    0.51]]]\n"
          ]
        }
      ]
    },
    {
      "cell_type": "markdown",
      "source": [
        "# **K-means Algorithm**"
      ],
      "metadata": {
        "id": "b_ZkNslhsjcK"
      }
    },
    {
      "cell_type": "markdown",
      "source": [
        "**imports**"
      ],
      "metadata": {
        "id": "Z4IH4Oj5zVDJ"
      }
    },
    {
      "cell_type": "code",
      "source": [
        "import numpy as np\n",
        "import math\n",
        "import random"
      ],
      "metadata": {
        "id": "njw_fTFGzUbO"
      },
      "execution_count": 11,
      "outputs": []
    },
    {
      "cell_type": "markdown",
      "source": [
        "**constants**"
      ],
      "metadata": {
        "id": "hGsLPp_b0502"
      }
    },
    {
      "cell_type": "code",
      "source": [
        "k = 2\n",
        "n = 2000\n",
        "dimen = 2"
      ],
      "metadata": {
        "id": "1XTbT_UV05O3"
      },
      "execution_count": 12,
      "outputs": []
    },
    {
      "cell_type": "markdown",
      "source": [
        "**init means**"
      ],
      "metadata": {
        "id": "0aQuYsyp-0u1"
      }
    },
    {
      "cell_type": "code",
      "source": [
        "means = []\n",
        "means.append(random.randint(0,n-1))\n",
        "while len(means)< k :\n",
        "    temp = random.randint(0, n - 1)\n",
        "    if temp not in means:\n",
        "        means.append(temp)"
      ],
      "metadata": {
        "id": "AE0EdJy5-yzr"
      },
      "execution_count": 13,
      "outputs": []
    },
    {
      "cell_type": "markdown",
      "source": [
        "# **K-mean Algorithm**"
      ],
      "metadata": {
        "id": "c3lLUhjvFzJB"
      }
    },
    {
      "cell_type": "code",
      "source": [
        "cl_mat = np.zeros((k,dimen)) \n",
        "size = np.zeros(k)\n",
        "mean_mat = np.zeros((k,dimen)) \n",
        "cl_index = [None]*n\n",
        "\n",
        "\n",
        "for i in range(k):\n",
        "    mean_mat[i] = dataset[means[i]]\n",
        "\n",
        "for p in range(0,101):\n",
        "    cl_mat.fill(0)\n",
        "    size.fill(0)\n",
        "    for dg in range(n):\n",
        "        gr = np.array([])\n",
        "        for mean in mean_mat:\n",
        "            gr = np.append(gr,(np.sum((np.array(dataset[dg]) - np.array(mean))**2)))\n",
        "        index = np.argmin(gr)\n",
        "        \n",
        "        # min-distance\n",
        "        cl_mat[index] += dataset[dg]\n",
        "        \n",
        "        # clustersize\n",
        "        size[index] += 1\n",
        "        if(cl_index[dg] == None or index != cl_index[dg]):\n",
        "            cl_index[dg] = index\n",
        "\n",
        "    for i in range(k):\n",
        "        mean_mat[i] = np.divide(cl_mat[i],size[i])\n",
        "    \n",
        "    if  p == 2 or p == 10 or p == 100:\n",
        "        print(f\"----------- The iteration is: {p} -----------\")\n",
        "        print(\"K-Means result is\")\n",
        "        print(\"K-Means means: \\n\",np.round(mean_mat,2))\n",
        "        print(\"\\n\")     \n"
      ],
      "metadata": {
        "colab": {
          "base_uri": "https://localhost:8080/"
        },
        "id": "SVLZ3FhYFMgJ",
        "outputId": "a068ae44-8ac7-44f5-9216-7594bddecf8e"
      },
      "execution_count": 14,
      "outputs": [
        {
          "output_type": "stream",
          "name": "stdout",
          "text": [
            "----------- The iteration is: 2 -----------\n",
            "K-Means result is\n",
            "K-Means means: \n",
            " [[2.9  2.98]\n",
            " [0.79 0.76]]\n",
            "\n",
            "\n",
            "----------- The iteration is: 10 -----------\n",
            "K-Means result is\n",
            "K-Means means: \n",
            " [[3.08 3.01]\n",
            " [0.82 0.96]]\n",
            "\n",
            "\n",
            "----------- The iteration is: 100 -----------\n",
            "K-Means result is\n",
            "K-Means means: \n",
            " [[3.08 3.01]\n",
            " [0.82 0.96]]\n",
            "\n",
            "\n"
          ]
        }
      ]
    },
    {
      "cell_type": "markdown",
      "source": [
        "# **We can see that K-means algorithm gives better approximation for the means**"
      ],
      "metadata": {
        "id": "scuLT1MwZD6K"
      }
    },
    {
      "cell_type": "markdown",
      "source": [
        "![image.png](data:image/png;base64,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)"
      ],
      "metadata": {
        "id": "jaXwn0l1hKGp"
      }
    }
  ]
}