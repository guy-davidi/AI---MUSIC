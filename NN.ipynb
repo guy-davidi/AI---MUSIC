{
  "nbformat": 4,
  "nbformat_minor": 0,
  "metadata": {
    "colab": {
      "name": "ex1_205493448.ipynb",
      "provenance": [],
      "collapsed_sections": [],
      "history_visible": true,
      "authorship_tag": "ABX9TyNhGEpNvySJV+Tt0xGQ4Tjp",
      "include_colab_link": true
    },
    "kernelspec": {
      "name": "python3",
      "display_name": "Python 3"
    },
    "language_info": {
      "name": "python"
    },
    "accelerator": "GPU"
  },
  "cells": [
    {
      "cell_type": "markdown",
      "metadata": {
        "id": "view-in-github",
        "colab_type": "text"
      },
      "source": [
        "<a href=\"https://colab.research.google.com/github/guy-davidi/AI---MUSIC/blob/main/NN.ipynb\" target=\"_parent\"><img src=\"https://colab.research.google.com/assets/colab-badge.svg\" alt=\"Open In Colab\"/></a>"
      ]
    },
    {
      "cell_type": "code",
      "execution_count": null,
      "metadata": {
        "colab": {
          "base_uri": "https://localhost:8080/"
        },
        "id": "TYCjOaUKC2HV",
        "outputId": "c84fcb2b-49c3-4cab-eb78-865abefca7bf"
      },
      "outputs": [
        {
          "output_type": "stream",
          "name": "stdout",
          "text": [
            "[9 0 0 ... 3 0 5]\n",
            "Model: \"sequential_38\"\n",
            "_________________________________________________________________\n",
            " Layer (type)                Output Shape              Param #   \n",
            "=================================================================\n",
            " conv2d_112 (Conv2D)         (None, 28, 28, 6)         156       \n",
            "                                                                 \n",
            " batch_normalization_14 (Bat  (None, 28, 28, 6)        24        \n",
            " chNormalization)                                                \n",
            "                                                                 \n",
            " dropout_38 (Dropout)        (None, 28, 28, 6)         0         \n",
            "                                                                 \n",
            " average_pooling2d_74 (Avera  (None, 14, 14, 6)        0         \n",
            " gePooling2D)                                                    \n",
            "                                                                 \n",
            " conv2d_113 (Conv2D)         (None, 10, 10, 16)        2416      \n",
            "                                                                 \n",
            " average_pooling2d_75 (Avera  (None, 5, 5, 16)         0         \n",
            " gePooling2D)                                                    \n",
            "                                                                 \n",
            " conv2d_114 (Conv2D)         (None, 1, 1, 120)         48120     \n",
            "                                                                 \n",
            " flatten_37 (Flatten)        (None, 120)               0         \n",
            "                                                                 \n",
            " dense_74 (Dense)            (None, 84)                10164     \n",
            "                                                                 \n",
            " dense_75 (Dense)            (None, 10)                850       \n",
            "                                                                 \n",
            "=================================================================\n",
            "Total params: 61,730\n",
            "Trainable params: 61,718\n",
            "Non-trainable params: 12\n",
            "_________________________________________________________________\n"
          ]
        },
        {
          "output_type": "stream",
          "name": "stderr",
          "text": [
            "/usr/local/lib/python3.7/dist-packages/keras/optimizer_v2/adam.py:105: UserWarning: The `lr` argument is deprecated, use `learning_rate` instead.\n",
            "  super(Adam, self).__init__(name, **kwargs)\n"
          ]
        },
        {
          "output_type": "stream",
          "name": "stdout",
          "text": [
            "None\n",
            "Epoch 1/20\n",
            "469/469 [==============================] - 5s 9ms/step - loss: 0.5401 - accuracy: 0.8042 - val_loss: 0.4683 - val_accuracy: 0.8245\n",
            "Epoch 2/20\n",
            "469/469 [==============================] - 4s 9ms/step - loss: 0.3892 - accuracy: 0.8594 - val_loss: 0.3986 - val_accuracy: 0.8522\n",
            "Epoch 3/20\n",
            "469/469 [==============================] - 4s 9ms/step - loss: 0.3484 - accuracy: 0.8716 - val_loss: 0.3548 - val_accuracy: 0.8693\n",
            "Epoch 4/20\n",
            "469/469 [==============================] - 4s 9ms/step - loss: 0.3235 - accuracy: 0.8808 - val_loss: 0.3281 - val_accuracy: 0.8794\n",
            "Epoch 5/20\n",
            "469/469 [==============================] - 4s 9ms/step - loss: 0.3068 - accuracy: 0.8879 - val_loss: 0.3237 - val_accuracy: 0.8814\n",
            "Epoch 6/20\n",
            "469/469 [==============================] - 4s 9ms/step - loss: 0.2900 - accuracy: 0.8920 - val_loss: 0.3170 - val_accuracy: 0.8854\n",
            "Epoch 7/20\n",
            "469/469 [==============================] - 4s 9ms/step - loss: 0.2792 - accuracy: 0.8961 - val_loss: 0.3142 - val_accuracy: 0.8829\n",
            "Epoch 8/20\n",
            "469/469 [==============================] - 4s 9ms/step - loss: 0.2665 - accuracy: 0.8997 - val_loss: 0.2994 - val_accuracy: 0.8893\n",
            "Epoch 9/20\n",
            "469/469 [==============================] - 4s 9ms/step - loss: 0.2563 - accuracy: 0.9045 - val_loss: 0.3028 - val_accuracy: 0.8895\n",
            "Epoch 10/20\n",
            "469/469 [==============================] - 4s 9ms/step - loss: 0.2493 - accuracy: 0.9062 - val_loss: 0.2905 - val_accuracy: 0.8934\n",
            "Epoch 11/20\n",
            "469/469 [==============================] - 4s 9ms/step - loss: 0.2400 - accuracy: 0.9112 - val_loss: 0.2974 - val_accuracy: 0.8906\n",
            "Epoch 12/20\n",
            "469/469 [==============================] - 4s 10ms/step - loss: 0.2346 - accuracy: 0.9121 - val_loss: 0.2889 - val_accuracy: 0.8934\n",
            "Epoch 13/20\n",
            "469/469 [==============================] - 4s 9ms/step - loss: 0.2280 - accuracy: 0.9147 - val_loss: 0.2916 - val_accuracy: 0.8926\n",
            "Epoch 14/20\n",
            "469/469 [==============================] - 4s 9ms/step - loss: 0.2218 - accuracy: 0.9163 - val_loss: 0.2902 - val_accuracy: 0.8946\n",
            "Epoch 15/20\n",
            "469/469 [==============================] - 4s 9ms/step - loss: 0.2162 - accuracy: 0.9193 - val_loss: 0.2896 - val_accuracy: 0.8961\n",
            "Epoch 16/20\n",
            "469/469 [==============================] - 4s 9ms/step - loss: 0.2085 - accuracy: 0.9224 - val_loss: 0.2895 - val_accuracy: 0.8954\n",
            "Epoch 17/20\n",
            "469/469 [==============================] - 4s 9ms/step - loss: 0.2051 - accuracy: 0.9239 - val_loss: 0.2829 - val_accuracy: 0.9011\n",
            "Epoch 18/20\n",
            "469/469 [==============================] - 4s 9ms/step - loss: 0.2001 - accuracy: 0.9248 - val_loss: 0.2825 - val_accuracy: 0.9011\n",
            "Epoch 19/20\n",
            "469/469 [==============================] - 4s 9ms/step - loss: 0.1943 - accuracy: 0.9268 - val_loss: 0.2932 - val_accuracy: 0.8950\n",
            "Epoch 20/20\n",
            "469/469 [==============================] - 4s 9ms/step - loss: 0.1891 - accuracy: 0.9291 - val_loss: 0.2876 - val_accuracy: 0.8986\n"
          ]
        }
      ],
      "source": [
        "from keras.layers.pooling import AveragePooling2D\n",
        "import tensorflow as tf\n",
        "import tensorflow.keras\n",
        "import keras\n",
        "from tensorflow.keras import datasets, layers, models\n",
        "from keras.layers import Dense, Dropout, Activation,Conv2D, MaxPooling2D,Flatten\n",
        "import matplotlib.pyplot as plt\n",
        "\n",
        "\n",
        "#load the fashine mnist data\n",
        "(x_tarin,y_train),(x_test,y_test)=datasets.fashion_mnist.load_data()\n",
        "\n",
        "#normalize the imges\n",
        "x_train = x_tarin /255.0\n",
        "x_test = x_test /255.0\n",
        "\n",
        "y_train = tf.keras.utils.to_categorical(y_train, num_classes=10)\n",
        "y_test = tf.keras.utils.to_categorical(y_test, num_classes=10)\n",
        "\n",
        "model = keras.models.Sequential([\n",
        "    Conv2D(6, kernel_size=5, strides=1, activation='tanh', input_shape=(28, 28, 1), padding='same'),\n",
        "    tf.keras.layers.BatchNormalization(),\n",
        "    Dropout(0.5),\n",
        "    AveragePooling2D(pool_size=(2, 2), strides=2), #S2\n",
        "    Conv2D(16, kernel_size=5, strides=1, activation='tanh', padding='valid'), #C3\n",
        "    AveragePooling2D(pool_size=(2, 2), strides=2), #S4\n",
        "    Conv2D(120, kernel_size=5, activation='tanh'), #C5\n",
        "    Flatten(), #Flatten\n",
        "    Dense(84, activation='tanh'), #F6\n",
        "    Dense(10, activation='softmax') #Output layer\n",
        "])\n",
        "\n",
        "\n",
        "\n",
        "#lr=1e-2\n",
        "opt = tf.keras.optimizers.Adam(lr=1e-3)\n",
        "model.compile(loss=\"categorical_crossentropy\", optimizer=opt, metrics=['accuracy'])\n",
        "print(model.summary())\n",
        "\n",
        "EPOCHS = 20\n",
        "BATCH_SIZE = 128\n",
        "\n",
        "history = model.fit(x_train, y_train, validation_data = (x_test, y_test), epochs=EPOCHS, batch_size=BATCH_SIZE, verbose=1)"
      ]
    },
    {
      "cell_type": "code",
      "source": [
        "plt.figure()\n",
        "plt.plot(history.history['accuracy'])\n",
        "plt.plot(history.history['val_accuracy'])\n",
        "\n",
        "plt.title('model accuracy and val accuracy')\n",
        "plt.ylabel('accuracy')\n",
        "plt.xlabel('epoch')\n",
        "plt.legend(['train', 'val'], loc='upper left')\n",
        "\n",
        "plt.show()\n"
      ],
      "metadata": {
        "colab": {
          "base_uri": "https://localhost:8080/",
          "height": 295
        },
        "id": "Eiy7A2x7mSSd",
        "outputId": "5a3e4668-4a84-4891-ce80-67789079450c"
      },
      "execution_count": null,
      "outputs": [
        {
          "output_type": "display_data",
          "data": {
            "image/png": "[encoded data removed]",
            "text/plain": [
              "<Figure size 432x288 with 1 Axes>"
            ]
          },
          "metadata": {
            "needs_background": "light"
          }
        }
      ]
    },
    {
      "cell_type": "code",
      "source": [
        "# plt.plot(history.history['loss'])\n",
        "# plt.plot(history.history['val_loss'])\n",
        "# plt.title('model losss')\n",
        "# plt.ylabel('loss')\n",
        "# plt.xlabel('epoch')\n",
        "# plt.legend(['train', 'validation'], loc='upper left')\n",
        "# plt.show()"
      ],
      "metadata": {
        "id": "aBdqE0fJmUJT"
      },
      "execution_count": null,
      "outputs": []
    },
    {
      "cell_type": "code",
      "source": [
        ""
      ],
      "metadata": {
        "id": "tu8bM7jxo9sS"
      },
      "execution_count": null,
      "outputs": []
    },
    {
      "cell_type": "code",
      "source": [
        ""
      ],
      "metadata": {
        "id": "1hlfu-iDprfd"
      },
      "execution_count": null,
      "outputs": []
    }
  ]
}